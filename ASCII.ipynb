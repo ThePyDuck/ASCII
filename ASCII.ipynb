import os
from flask import Flask, render_template_string, request
import pyfiglet

app = Flask(__name__)

# List of available pyfiglet fonts
fonts = pyfiglet.FigletFont.getFonts()

@app.route('/', methods=['GET', 'POST'])
def index():
    if request.method == 'POST':
        text = request.form['text']
        font = request.form['font']  # Get selected font
        ascii_art = pyfiglet.figlet_format(text, font=font)  # Convert text to ASCII art
        return render_template_string('''
            <head>
                <meta charset="UTF-8">
                <title>Create ASCII Art By Somapto</title>
                <link rel="stylesheet" href="https://fonts.googleapis.com/css2?family=Roboto:wght@300;400;500&display=swap">
                <link href="https://cdnjs.cloudflare.com/ajax/libs/font-awesome/6.0.0-beta3/css/all.min.css" rel="stylesheet">
                <style>
                    body { font-family: 'Roboto', sans-serif; margin: 0; padding: 0; background: linear-gradient(45deg, #ff6a00, #ee0979); color: white; }
                    h1 { text-align: center; color: #fff; font-size: 3rem; margin-top: 50px; text-shadow: 3px 3px 8px rgba(0, 0, 0, 0.3); }
                    form { text-align: center; margin-top: 50px; }
                    input, select { padding: 15px; font-size: 18px; margin: 10px; border-radius: 8px; border: 2px solid #fff; outline: none; width: 300px; }
                    input:focus, select:focus { border-color: #ff6a00; }
                    button { padding: 15px 30px; font-size: 18px; background-color: #ff6a00; color: white; border: none; border-radius: 8px; cursor: pointer; transition: background-color 0.3s ease; }
                    button:hover { background-color: #e55d00; }
                    pre { background-color: #2c3e50; color: white; padding: 30px; border-radius: 10px; word-wrap: break-word; white-space: pre-wrap; font-family: 'Courier New', Courier, monospace; max-width: 80%; margin: 0 auto; }
                    .container { text-align: center; }
                    select { background-color: #2c3e50; color: #fff; }
                    .footer { position: fixed; bottom: 20px; left: 50%; transform: translateX(-50%); font-size: 14px; color: #fff; }
                    .footer i { color: #ff6a00; }
                    .spinner { display: none; margin-top: 20px; }
                    .spinner.show { display: inline-block; }
                </style>
            </head>
            <body>
                <div class="container">
                    <h1>Convert Text to ASCII Art</h1>
                    <form method="POST" onsubmit="showSpinner()">
                        <label for="text">Enter Text:</label>
                        <input type="text" id="text" name="text" required>
                        <label for="font">Choose Font:</label>
                        <select name="font" id="font">
                            {% for font in fonts %}
                                <option value="{{ font }}" {% if font == selected_font %}selected{% endif %}>{{ font }}</option>
                            {% endfor %}
                        </select>
                        <button type="submit">
                            <i class="fas fa-arrow-right"></i> Convert
                        </button>
                    </form>
                    {% if ascii_art %}
                        <h2>ASCII Art for: {{ text }}</h2>
                        <pre>{{ ascii_art }}</pre>
                    {% endif %}
                    <div class="footer">
                        Made with <i class="fas fa-heart"></i> by Somapto
                    </div>
                </div>
                <div class="spinner" id="spinner">
                    <i class="fas fa-spinner fa-spin"></i> Converting...
                </div>
                <script>
                    function showSpinner() {
                        document.getElementById("spinner").classList.add("show");
                    }
                </script>
            </body>
        ''', ascii_art=ascii_art, text=text, fonts=fonts, selected_font=font)

    return render_template_string('''
        <head>
            <meta charset="UTF-8">
            <title>Create ASCII Art By Somapto</title>
            <link rel="stylesheet" href="https://fonts.googleapis.com/css2?family=Roboto:wght@300;400;500&display=swap">
            <link href="https://cdnjs.cloudflare.com/ajax/libs/font-awesome/6.0.0-beta3/css/all.min.css" rel="stylesheet">
            <style>
                body { font-family: 'Roboto', sans-serif; margin: 0; padding: 0; background: linear-gradient(45deg, #ff6a00, #ee0979); color: white; }
                h1 { text-align: center; color: #fff; font-size: 3rem; margin-top: 50px; text-shadow: 3px 3px 8px rgba(0, 0, 0, 0.3); }
                form { text-align: center; margin-top: 50px; }
                input, select { padding: 15px; font-size: 18px; margin: 10px; border-radius: 8px; border: 2px solid #fff; outline: none; width: 300px; }
                input:focus, select:focus { border-color: #ff6a00; }
                button { padding: 15px 30px; font-size: 18px; background-color: #ff6a00; color: white; border: none; border-radius: 8px; cursor: pointer; transition: background-color 0.3s ease; }
                button:hover { background-color: #e55d00; }
                pre { background-color: #2c3e50; color: white; padding: 30px; border-radius: 10px; word-wrap: break-word; white-space: pre-wrap; font-family: 'Courier New', Courier, monospace; max-width: 80%; margin: 0 auto; }
                .container { text-align: center; }
                select { background-color: #2c3e50; color: #fff; }
                .footer { position: fixed; bottom: 20px; left: 50%; transform: translateX(-50%); font-size: 14px; color: #fff; }
                .footer i { color: #ff6a00; }
                .spinner { display: none; margin-top: 20px; }
                .spinner.show { display: inline-block; }
            </style>
        </head>
        <body>
            <div class="container">
                <h1>Convert Text to ASCII Art</h1>
                <form method="POST" onsubmit="showSpinner()">
                    <label for="text">Enter Text:</label>
                    <input type="text" id="text" name="text" required>
                    <label for="font">Choose Font:</label>
                    <select name="font" id="font">
                        {% for font in fonts %}
                            <option value="{{ font }}">{{ font }}</option>
                        {% endfor %}
                    </select>
                    <button type="submit">
                        <i class="fas fa-arrow-right"></i> Convert
                    </button>
                </form>
                <div class="footer">
                    Made with <i class="fas fa-heart"></i> by Somapto
                </div>
            </div>
            <div class="spinner" id="spinner">
                <i class="fas fa-spinner fa-spin"></i> Converting...
            </div>
            <script>
                function showSpinner() {
                    document.getElementById("spinner").classList.add("show");
                }
            </script>
        </body>
    ''' , fonts=fonts)

if __name__ == "__main__":
    app.run(host='0.0.0.0', port=5000)
               
